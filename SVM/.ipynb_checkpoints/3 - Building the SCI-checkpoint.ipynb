{
 "cells": [
  {
   "cell_type": "markdown",
   "metadata": {},
   "source": [
    "### Building the SVM\n",
    "Here we will aim to represent the conversations using Bag-Of-Words (BOW) with a TF-IDF weighing scheme and then build our SVM Suspicious Conversations Identifier (SCI).\n",
    "\n",
    "First we read in the training data and labels."
   ]
  },
  {
   "cell_type": "code",
   "execution_count": 1,
   "metadata": {},
   "outputs": [],
   "source": [
    "import xml.etree.ElementTree as ET\n",
    "import csv\n",
    "\n",
    "\n",
    "def get_labels_dict(data_path):\n",
    "    labels_dict = {}\n",
    "    with open(data_path + 'sci_labels.csv', 'r') as f:\n",
    "        file = csv.reader(f)\n",
    "        for row in file:\n",
    "            labels_dict[row[0]] = row[1]\n",
    "    return labels_dict\n",
    "\n",
    "\n",
    "def get_features_labels(root, labels_dict):\n",
    "    corpus = [] # each row is a string formed from all messages in a conversations\n",
    "    labels = [] # each row is 0 or 1, corresponds to label for same row in corpus\n",
    "\n",
    "    for conversation in root:\n",
    "        string = \" \"\n",
    "        for message in conversation:\n",
    "            text = message.find('text').text\n",
    "            if text is not None:\n",
    "                string = string + \"\\r\\n\" + text \n",
    "        corpus.append(string)\n",
    "        labels.append(int(labels_dict[conversation.get('id')]))\n",
    "    return corpus, labels"
   ]
  },
  {
   "cell_type": "code",
   "execution_count": 2,
   "metadata": {},
   "outputs": [],
   "source": [
    "train_data_path = '.../.../data/svm_training_data/'\n",
    "training_xml = ET.parse(train_data_path + 'training_data.xml')\n",
    "train_root = training_xml.getroot()\n",
    "\n",
    "test_data_path = '.../.../data/svm_test_data/'\n",
    "test_data_src = '.../.../data/pan12-sexual-predator-identification-test-corpus-2012-05-21/'\n",
    "test_xml = ET.parse(test_data_src + 'pan12-sexual-predator-identification-test-corpus-2012-05-17.xml')\n",
    "test_root = test_xml.getroot()\n",
    "\n",
    "train_corpus, train_labels = get_features_labels(train_root, get_labels_dict(train_data_path))\n",
    "test_corpus, test_labels = get_features_labels(test_root, get_labels_dict(test_data_path))"
   ]
  },
  {
   "cell_type": "markdown",
   "metadata": {},
   "source": [
    "We will now represent all conversations using Bag-Of-Words (BOW) with TF-IDF weighing scheme.\n",
    "- [] Customize Vectorizer Parameters like normailize\n",
    "- [] Use hashing vectorization to save space and see if performance is affected (https://machinelearningmastery.com/prepare-text-data-machine-learning-scikit-learn/)\n"
   ]
  },
  {
   "cell_type": "code",
   "execution_count": 3,
   "metadata": {},
   "outputs": [],
   "source": [
    "from sklearn.feature_extraction.text import TfidfVectorizer\n",
    "import scipy\n",
    "\n",
    "# from sklearn.model_selection import train_test_split\n",
    "import numpy as np\n",
    "\n",
    "vectorizer = TfidfVectorizer()\n",
    "X_train = vectorizer.fit_transform(train_corpus)\n",
    "X_test = vectorizer.transform(test_corpus)\n",
    "\n",
    "X_train = scipy.sparse.csr_matrix(X_train)\n",
    "y_train = np.array(train_labels)\n",
    "X_test = scipy.sparse.csr_matrix(X_test)\n",
    "y_test = np.array(test_labels)"
   ]
  },
  {
   "cell_type": "markdown",
   "metadata": {},
   "source": [
    "We can now build the SVM and do cross validation to explore the accuracy of each kernel and hyperparameter."
   ]
  },
  {
   "cell_type": "code",
   "execution_count": 4,
   "metadata": {},
   "outputs": [
    {
     "name": "stderr",
     "output_type": "stream",
     "text": [
      "C:\\Users\\Simon N Pallan\\AppData\\Roaming\\Python\\Python39\\site-packages\\sklearn\\utils\\validation.py:70: FutureWarning: Pass shuffle=True, random_state=1 as keyword args. From version 1.0 (renaming of 0.25) passing these as positional arguments will result in an error\n",
      "  warnings.warn(f\"Pass {args_msg} as keyword args. From version \"\n"
     ]
    },
    {
     "name": "stdout",
     "output_type": "stream",
     "text": [
      "linear, c=0.1, Accuracy: 0.9914983559705324\n",
      "linear, c=0.2, Accuracy: 0.9941509547394756\n",
      "linear, c=0.30000000000000004, Accuracy: 0.9946950336898865\n",
      "linear, c=0.4, Accuracy: 0.9950350310076445\n",
      "linear, c=0.5, Accuracy: 0.9953070936056273\n",
      "linear, c=0.6, Accuracy: 0.9954431017818413\n",
      "linear, c=0.7000000000000001, Accuracy: 0.9955111289927256\n",
      "linear, c=0.8, Accuracy: 0.9955111289927256\n",
      "linear, c=0.9, Accuracy: 0.99557915620361\n",
      "linear, c=1.0, Accuracy: 0.9955792024491646\n",
      "linear, c=1.1, Accuracy: 0.99557915620361\n",
      "linear, c=1.2000000000000002, Accuracy: 0.9955111289927256\n",
      "linear, c=1.3000000000000003, Accuracy: 0.9955791099580553\n",
      "linear, c=1.4000000000000001, Accuracy: 0.9955791099580553\n",
      "linear, c=1.5000000000000002, Accuracy: 0.9955791099580553\n",
      "linear, c=1.6, Accuracy: 0.9955791099580553\n",
      "linear, c=1.7000000000000002, Accuracy: 0.9955791099580553\n",
      "linear, c=1.8000000000000003, Accuracy: 0.9955791099580553\n",
      "linear, c=1.9000000000000001, Accuracy: 0.9955791099580553\n",
      "linear, c=2.0, Accuracy: 0.9956471371689396\n",
      "linear, c=2.1, Accuracy: 0.9957151643798239\n",
      "linear, c=2.2, Accuracy: 0.9957151643798239\n",
      "linear, c=2.3000000000000003, Accuracy: 0.9957831915907084\n",
      "linear, c=2.4000000000000004, Accuracy: 0.9957831915907084\n",
      "linear, c=2.5000000000000004, Accuracy: 0.9958512188015927\n",
      "linear, c=2.6, Accuracy: 0.9958512188015927\n",
      "linear, c=2.7, Accuracy: 0.9958512188015927\n",
      "linear, c=2.8000000000000003, Accuracy: 0.9958512188015927\n",
      "linear, c=2.9000000000000004, Accuracy: 0.995919246012477\n",
      "linear, c=3.0000000000000004, Accuracy: 0.995783237836263\n",
      "linear, c=3.1, Accuracy: 0.995783237836263\n",
      "linear, c=3.2, Accuracy: 0.9957152106253787\n",
      "linear, c=3.3000000000000003, Accuracy: 0.9957152106253787\n",
      "linear, c=3.4000000000000004, Accuracy: 0.9957831915907084\n",
      "linear, c=3.5000000000000004, Accuracy: 0.9957151643798241\n",
      "linear, c=3.6, Accuracy: 0.9956471371689396\n",
      "linear, c=3.7, Accuracy: 0.9956471371689396\n",
      "linear, c=3.8000000000000003, Accuracy: 0.9956471371689396\n",
      "linear, c=3.9000000000000004, Accuracy: 0.9956471371689396\n",
      "linear, c=4.0, Accuracy: 0.9956471371689396\n",
      "linear, c=4.1, Accuracy: 0.9955791562036099\n",
      "linear, c=4.2, Accuracy: 0.9955791562036099\n",
      "linear, c=4.3, Accuracy: 0.9955791562036099\n",
      "linear, c=4.3999999999999995, Accuracy: 0.9955791562036099\n",
      "linear, c=4.5, Accuracy: 0.9955791562036099\n",
      "linear, c=4.6, Accuracy: 0.9955791562036099\n",
      "linear, c=4.7, Accuracy: 0.9955791562036099\n",
      "linear, c=4.8, Accuracy: 0.9955111289927256\n",
      "linear, c=4.9, Accuracy: 0.9955111289927256\n",
      "linear, c=5.0, Accuracy: 0.9955111289927256\n"
     ]
    },
    {
     "data": {
      "image/png": "[encoded data removed]",
      "text/plain": [
       "<Figure size 432x288 with 1 Axes>"
      ]
     },
     "metadata": {
      "needs_background": "light"
     },
     "output_type": "display_data"
    },
    {
     "name": "stdout",
     "output_type": "stream",
     "text": [
      "Best performing linear kernel SVM: C=2.9000000000000004, Acc=0.995919246012477\n"
     ]
    }
   ],
   "source": [
    "from sklearn import svm\n",
    "from sklearn.model_selection import KFold\n",
    "import matplotlib.pyplot as plt\n",
    "from sklearn import metrics\n",
    "import heapq\n",
    "import operator\n",
    "import numpy as np\n",
    "from sklearn.svm import LinearSVC\n",
    "\n",
    "num_fold = 10\n",
    "k_fold = KFold(num_fold, True, 1)\n",
    "kernel = 'linear'\n",
    "acc = []\n",
    "\n",
    "for coef_c in np.arange(0.1, 5.1, 0.1):\n",
    "    acc_arr = np.zeros(num_fold)\n",
    "    ind = 0\n",
    "    for train_rows, val_rows in k_fold.split(X_train):\n",
    "#       model = svm.SVC(kernel=kernel, C=coef_c, gamma='auto', random_state=0)\n",
    "        model = LinearSVC(random_state=0, C=coef_c, loss='squared_hinge', dual=True)\n",
    "        model.fit(X_train[train_rows], y_train[train_rows])\n",
    "        pred_y = model.predict(X_train[val_rows])\n",
    "        acc_arr[ind] = metrics.accuracy_score(y_train[val_rows], pred_y)\n",
    "        ind += 1\n",
    "    acc.append([coef_c, np.mean(acc_arr)])\n",
    "    print(\"{}, c={}, Accuracy: {}\".format(kernel, coef_c, acc[len(acc)-1][1]))\n",
    "plt.plot([i[0] for i in acc], [i[1] for i in acc])\n",
    "plt.title(\"Performance of {} SVM\".format(kernel))\n",
    "plt.xlabel(\"C value\")\n",
    "plt.ylabel(\"Accuracy\")\n",
    "# plt.savefig('../output/As1_Qn4.2_' + kernel + '_' + datetime.datetime.now().strftime(\"%Y_%m_%d_%H_%M_%S\") + '.png')\n",
    "plt.show()\n",
    "best = heapq.nlargest(1, acc, key=operator.itemgetter(1))[0]\n",
    "print(\"Best performing linear kernel SVM: C={}, Acc={}\".format(best[0], best[1]))"
   ]
  },
  {
   "cell_type": "markdown",
   "metadata": {},
   "source": [
    "Now that we have the best linear kernel model, let us test against our test data."
   ]
  },
  {
   "cell_type": "code",
   "execution_count": 5,
   "metadata": {},
   "outputs": [
    {
     "name": "stdout",
     "output_type": "stream",
     "text": [
      "0.9851026249290908\n"
     ]
    }
   ],
   "source": [
    "# model = svm.SVC(kernel='linear', C=best[0], gamma='auto', random_state=0)\n",
    "model = LinearSVC(random_state=0, C=best[0], loss='squared_hinge', dual=True)\n",
    "model.fit(X_train, y_train)\n",
    "pred_y = model.predict(X_test)\n",
    "print(metrics.accuracy_score(y_test, pred_y))"
   ]
  },
  {
   "cell_type": "markdown",
   "metadata": {},
   "source": [
    "For linear kernel SVM with C coeficient of 1, we are getting an accuracy of 0.98561!"
   ]
  },
  {
   "cell_type": "code",
   "execution_count": 6,
   "metadata": {},
   "outputs": [],
   "source": [
    "import pickle\n",
    "\n",
    "# save the model to the models folder\n",
    "filename = '.../.../models/SCI_SVM_' + \"{:.2f}\".format(metrics.accuracy_score(y_test, pred_y)) + '.sav'\n",
    "pickle.dump(model, open(filename, 'wb'))"
   ]
  }
 ],
 "metadata": {
  "kernelspec": {
   "display_name": "Python 3",
   "language": "python",
   "name": "python3"
  },
  "language_info": {
   "codemirror_mode": {
    "name": "ipython",
    "version": 3
   },
   "file_extension": ".py",
   "mimetype": "text/x-python",
   "name": "python",
   "nbconvert_exporter": "python",
   "pygments_lexer": "ipython3",
   "version": "3.9.1"
  }
 },
 "nbformat": 4,
 "nbformat_minor": 2
}
