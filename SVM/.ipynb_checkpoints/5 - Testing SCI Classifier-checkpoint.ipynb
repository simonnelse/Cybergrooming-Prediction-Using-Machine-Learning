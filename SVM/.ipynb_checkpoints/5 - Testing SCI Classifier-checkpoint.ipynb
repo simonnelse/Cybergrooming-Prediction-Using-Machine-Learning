{
 "cells": [
  {
   "cell_type": "code",
   "execution_count": null,
   "metadata": {},
   "outputs": [],
   "source": [
    "def get_features_labels(root):\n",
    "    corpus = [] # each row is a string formed from all messages in a conversations\n",
    "\n",
    "    for conversation in root:\n",
    "        string = \" \"\n",
    "        for message in conversation:\n",
    "            text = message.find('text').text\n",
    "            if text is not None:\n",
    "                string = string + \"\\r\\n\" + text \n",
    "        corpus.append(string)\n",
    "    return corpus"
   ]
  },
  {
   "cell_type": "code",
   "execution_count": null,
   "metadata": {},
   "outputs": [],
   "source": [
    "import xml.etree.ElementTree as ET\n",
    "import csv\n",
    "\n",
    "test_data_src = '.../.../test data/'\n",
    "test_xml = ET.parse(test_data_src + 'grooming_conversations.xml')\n",
    "test_root = test_xml.getroot()\n",
    "\n",
    "test_corpus = get_features_labels(test_root)"
   ]
  },
  {
   "cell_type": "markdown",
   "metadata": {},
   "source": [
    "Load SCIvectorizer.pickle "
   ]
  },
  {
   "cell_type": "code",
   "execution_count": null,
   "metadata": {},
   "outputs": [],
   "source": [
    "import pickle\n",
    "import scipy\n",
    "\n",
    "SCIvectorizer_filename = \".../.../pickles/SCIvectorizer.pickle\"\n",
    "vectorizer = pickle.load(open(SCIvectorizer_filename, 'rb'))\n",
    "\n",
    "X_test = vectorizer.transform(test_corpus)\n",
    "X_test = scipy.sparse.csr_matrix(X_test)"
   ]
  },
  {
   "cell_type": "markdown",
   "metadata": {},
   "source": [
    "Load our pre-trained SCI model - SCI_SVM_0.99"
   ]
  },
  {
   "cell_type": "code",
   "execution_count": null,
   "metadata": {},
   "outputs": [],
   "source": [
    "SCI_filename = \".../.../pre-trained models/SCI_SVM_0.99.sav\"\n",
    "SCI_model = pickle.load(open(SCI_filename, 'rb'))\n",
    "\n",
    "prediction = SCI_model.predict(X_test)"
   ]
  },
  {
   "cell_type": "code",
   "execution_count": null,
   "metadata": {},
   "outputs": [],
   "source": [
    "import sklearn.metrics as metrics\n",
    "\n",
    "if prediction[0] == 1:\n",
    "    print(\"Grooming Attempt Detected in Conversation\\n\")\n",
    "else:\n",
    "    print(\"Normal Conversation\\n\")\n",
    "\n",
    "Y_test = [1] #Y_test = [1] for grooming_conversations & Y_test = [0] for normal_conversations\n",
    "print(\"SCI Model Accuracy:\", \"98.51%\")\n",
    "print(\"Test Case Accuracy:\",metrics.accuracy_score(Y_test, prediction)*100, end= \"%\")"
   ]
  }
 ],
 "metadata": {
  "kernelspec": {
   "display_name": "Python 3",
   "language": "python",
   "name": "python3"
  },
  "language_info": {
   "codemirror_mode": {
    "name": "ipython",
    "version": 3
   },
   "file_extension": ".py",
   "mimetype": "text/x-python",
   "name": "python",
   "nbconvert_exporter": "python",
   "pygments_lexer": "ipython3",
   "version": "3.9.1"
  }
 },
 "nbformat": 4,
 "nbformat_minor": 2
}
