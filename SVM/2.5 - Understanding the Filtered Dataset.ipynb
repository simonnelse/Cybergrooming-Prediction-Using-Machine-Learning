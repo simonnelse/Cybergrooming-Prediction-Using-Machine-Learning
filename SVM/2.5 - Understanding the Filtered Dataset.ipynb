{
 "cells": [
  {
   "cell_type": "markdown",
   "metadata": {},
   "source": [
    "We want to understand our filtered dataset. Let's do that by first understanding how much data has been filtered"
   ]
  },
  {
   "cell_type": "code",
   "execution_count": 1,
   "metadata": {},
   "outputs": [],
   "source": [
    "import xml.etree.ElementTree as ET\n",
    "import csv\n",
    "\n",
    "unfiltered_data_path = \".../.../data/pan12-sexual-predator-identification-training-corpus-2012-05-01/\"\n",
    "unfiltered_xml = ET.parse(unfiltered_data_path + 'pan12-sexual-predator-identification-training-corpus-2012-05-01.xml')\n",
    "unfiltered_root = unfiltered_xml.getroot() \n",
    "unfiltered_authors = {}\n",
    "unfiltered_predators = {}\n",
    "\n",
    "filtered_data_path = '.../.../data/svm_training_data/'\n",
    "filtered_xml = ET.parse(filtered_data_path + 'training_data.xml')\n",
    "filtered_root = filtered_xml.getroot()\n",
    "csv_dict = {}\n",
    "filtered_authors = {}\n",
    "filtered_predators = {}\n",
    "all_predators = {}\n",
    "\n",
    "# metrics\n",
    "filtered_num_conv = len(filtered_root)\n",
    "filtered_num_predators = 0\n",
    "filtered_num_suspicious_conv = 0\n",
    "filtered_num_authors = 0\n",
    "\n",
    "unfiltered_num_conv = len(unfiltered_root)\n",
    "unfiltered_num_predators = 0\n",
    "unfiltered_num_suspicious_conv = 0\n",
    "unfiltered_num_authors = 0"
   ]
  },
  {
   "cell_type": "code",
   "execution_count": 2,
   "metadata": {},
   "outputs": [
    {
     "name": "stdout",
     "output_type": "stream",
     "text": [
      "Num of Conv: 14703\r\n",
      "Num of suspicious conv: 901\r\n",
      "Num authors: 25099\r\n",
      "Num predators: 137\n"
     ]
    }
   ],
   "source": [
    "with open(filtered_data_path + 'sci_labels.csv', 'r') as f:\n",
    "    reader = csv.reader(f)\n",
    "    for row in reader:\n",
    "        csv_dict[row[0]] = int(row[1])\n",
    "\n",
    "assert len(csv_dict) == filtered_num_conv\n",
    "\n",
    "with open(unfiltered_data_path + 'pan12-sexual-predator-identification-training-corpus-predators-2012-05-01.txt', 'r') as f:\n",
    "    reader = csv.reader(f)\n",
    "    for row in reader:\n",
    "        all_predators[row[0]] = 1\n",
    "\n",
    "for conversation in filtered_root:\n",
    "    conv_id = conversation.get('id')\n",
    "    if csv_dict[conv_id] == 1:\n",
    "        filtered_num_suspicious_conv += 1\n",
    "    for message in conversation:\n",
    "        author = message.find('author').text\n",
    "        if author not in filtered_authors:\n",
    "            filtered_authors[author] = 1\n",
    "        if author in all_predators and author not in filtered_predators:\n",
    "            filtered_predators[author] = 1\n",
    "            \n",
    "filtered_num_authors = len(filtered_authors)\n",
    "filtered_num_predators = len(filtered_predators)\n",
    "\n",
    "print(\"Num of Conv: {}\\r\\nNum of suspicious conv: {}\\r\\nNum authors: {}\\r\\nNum predators: {}\".format(\\\n",
    "                                                                                                        filtered_num_conv,\\\n",
    "                                                                                                      filtered_num_suspicious_conv,\\\n",
    "                                                                                                      filtered_num_authors,\\\n",
    "                                                                                                      filtered_num_predators))"
   ]
  },
  {
   "cell_type": "code",
   "execution_count": 3,
   "metadata": {},
   "outputs": [
    {
     "name": "stdout",
     "output_type": "stream",
     "text": [
      "Num of Conv: 66927\r\n",
      "Num of suspicious conv: 2016\r\n",
      "Num authors: 97689\r\n",
      "Num predators: 142\n"
     ]
    }
   ],
   "source": [
    "for conversation in unfiltered_root:\n",
    "    is_suspicious = False\n",
    "    for message in conversation:\n",
    "        author = message.find('author').text\n",
    "        if author not in unfiltered_authors:\n",
    "            unfiltered_authors[author] = 1\n",
    "        if author in all_predators:\n",
    "            is_suspicious = True\n",
    "            if author not in unfiltered_predators:\n",
    "                unfiltered_predators[author] = 1\n",
    "    if is_suspicious:\n",
    "        unfiltered_num_suspicious_conv += 1\n",
    "unfiltered_num_authors = len(unfiltered_authors)\n",
    "unfiltered_num_predators = len(unfiltered_predators)\n",
    "\n",
    "print(\"Num of Conv: {}\\r\\nNum of suspicious conv: {}\\r\\nNum authors: {}\\r\\nNum predators: {}\".format(\\\n",
    "                                                                                                        unfiltered_num_conv,\\\n",
    "                                                                                                      unfiltered_num_suspicious_conv,\\\n",
    "                                                                                                      unfiltered_num_authors,\\\n",
    "                                                                                                      unfiltered_num_predators))"
   ]
  }
 ],
 "metadata": {
  "kernelspec": {
   "display_name": "Python 3",
   "language": "python",
   "name": "python3"
  },
  "language_info": {
   "codemirror_mode": {
    "name": "ipython",
    "version": 3
   },
   "file_extension": ".py",
   "mimetype": "text/x-python",
   "name": "python",
   "nbconvert_exporter": "python",
   "pygments_lexer": "ipython3",
   "version": "3.9.1"
  }
 },
 "nbformat": 4,
 "nbformat_minor": 2
}
