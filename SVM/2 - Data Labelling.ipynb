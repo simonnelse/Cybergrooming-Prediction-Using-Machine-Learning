{
 "cells": [
  {
   "cell_type": "markdown",
   "metadata": {},
   "source": [
    "### Data Labelling\n",
    "For the first stage SVM, the Suspicious Conversations Identification (SCI), we need labels of whether or not a conversation is suspicious. A suspicious conversation is defined as a conversation that contains at least one sexual predators. Since we are given the ids of all authors identified as sexual predators, we can write a new CSV file that tells us whether or not a conversation (identified by their id) is suspicious."
   ]
  },
  {
   "cell_type": "code",
   "execution_count": 1,
   "metadata": {},
   "outputs": [
    {
     "name": "stdout",
     "output_type": "stream",
     "text": [
      "Done!\n"
     ]
    }
   ],
   "source": [
    "import xml.etree.ElementTree as ET\n",
    "import csv\n",
    "\n",
    "train_data_path = '.../.../data/svm_training_data/'\n",
    "training_xml = ET.parse(train_data_path + 'training_data.xml')\n",
    "root = training_xml.getroot()\n",
    "\n",
    "pred_id_file = '.../.../data/pan12-sexual-predator-identification-training-corpus-2012-05-01/'\n",
    "file = open(pred_id_file + 'pan12-sexual-predator-identification-training-corpus-predators-2012-05-01.txt', 'r')\n",
    "predators_id = file.read().splitlines()\n",
    "# print(predators_id)\n",
    "\n",
    "csv_labels = []\n",
    "authors = []\n",
    "for conversation in root:\n",
    "    authors.clear()\n",
    "    \n",
    "    # find all unique authors in this conversation\n",
    "    for message in conversation:\n",
    "        author = message.find('author').text\n",
    "        if author not in authors:\n",
    "            authors.append(author)\n",
    "    suspicious = False\n",
    "    for author in authors:\n",
    "        if author in predators_id:\n",
    "            suspicious = True\n",
    "            \n",
    "    if suspicious:\n",
    "        csv_labels.append([conversation.get('id'), 1])\n",
    "    else:\n",
    "        csv_labels.append([conversation.get('id'), 0])\n",
    "\n",
    "# print(csv_labels)\n",
    "with open(train_data_path + 'sci_labels.csv', 'w', newline='') as f:\n",
    "    writer = csv.writer(f)\n",
    "    writer.writerows(csv_labels)\n",
    "print('Done!')"
   ]
  },
  {
   "cell_type": "markdown",
   "metadata": {},
   "source": [
    "Let us do the same thing for test data. "
   ]
  },
  {
   "cell_type": "code",
   "execution_count": 2,
   "metadata": {},
   "outputs": [
    {
     "name": "stdout",
     "output_type": "stream",
     "text": [
      "Num of Conv: 155128\r\n",
      "Num of suspicious conv: 3737\r\n",
      "Num authors: 218702\r\n",
      "Num predators: 254\n"
     ]
    }
   ],
   "source": [
    "test_data_path = '.../.../data/svm_test_data/'\n",
    "test_data_src = '.../.../data/pan12-sexual-predator-identification-test-corpus-2012-05-21/'\n",
    "test_xml = ET.parse(test_data_src + 'pan12-sexual-predator-identification-test-corpus-2012-05-17.xml')\n",
    "root = test_xml.getroot()\n",
    "\n",
    "all_predators = {}\n",
    "with open(test_data_src + 'pan12-sexual-predator-identification-groundtruth-problem1.txt', 'r') as f:\n",
    "    reader = csv.reader(f)\n",
    "    for row in reader:\n",
    "        all_predators[row[0]] = 1\n",
    "\n",
    "# metric\n",
    "test_num_conv = len(root)\n",
    "test_num_suspicious_conv = 0\n",
    "test_num_predators = len(all_predators)\n",
    "test_num_authors = 0\n",
    "\n",
    "csv_labels = []\n",
    "authors = {}\n",
    "for conversation in root:\n",
    "    suspicious = False\n",
    "    for message in conversation:\n",
    "        author = message.find('author').text\n",
    "        if author not in authors:\n",
    "            authors[author] = 1\n",
    "        if author in all_predators:\n",
    "            suspicious = True\n",
    "    if suspicious:\n",
    "        csv_labels.append([conversation.get('id'), 1])\n",
    "        test_num_suspicious_conv += 1\n",
    "    else:\n",
    "        csv_labels.append([conversation.get('id'), 0])\n",
    "\n",
    "# print(csv_labels)\n",
    "with open(test_data_path + 'sci_labels.csv', 'w', newline='') as f:\n",
    "    writer = csv.writer(f)\n",
    "    writer.writerows(csv_labels)\n",
    "    \n",
    "test_num_authors = len(authors)\n",
    "print(\"Num of Conv: {}\\r\\nNum of suspicious conv: {}\\r\\nNum authors: {}\\r\\nNum predators: {}\".format(\\\n",
    "                                                                                                        test_num_conv,\\\n",
    "                                                                                                      test_num_suspicious_conv,\\\n",
    "                                                                                                      test_num_authors,\\\n",
    "                                                                                                      test_num_predators))"
   ]
  }
 ],
 "metadata": {
  "kernelspec": {
   "display_name": "Python 3",
   "language": "python",
   "name": "python3"
  },
  "language_info": {
   "codemirror_mode": {
    "name": "ipython",
    "version": 3
   },
   "file_extension": ".py",
   "mimetype": "text/x-python",
   "name": "python",
   "nbconvert_exporter": "python",
   "pygments_lexer": "ipython3",
   "version": "3.9.1"
  }
 },
 "nbformat": 4,
 "nbformat_minor": 2
}
