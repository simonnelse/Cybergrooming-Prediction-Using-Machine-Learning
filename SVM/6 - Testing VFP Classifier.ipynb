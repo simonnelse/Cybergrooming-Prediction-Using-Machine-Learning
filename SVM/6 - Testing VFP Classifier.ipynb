{
 "cells": [
  {
   "cell_type": "code",
   "execution_count": null,
   "metadata": {},
   "outputs": [],
   "source": [
    "def get_features_labels(root):\n",
    "    corpus = [] # each item is a string formed from all the messages of a single author\n",
    "    authors = [] #author IDs\n",
    "\n",
    "    for conversation in root:\n",
    "        author_conv_dict = {}\n",
    "        for message in conversation:\n",
    "            author = message.find('author').text\n",
    "            text = message.find('text').text\n",
    "            if text is not None:\n",
    "                if author not in author_conv_dict:\n",
    "                    author_conv_dict[author] = text\n",
    "                else:\n",
    "                    author_conv_dict[author] += \" \" + text \n",
    "        \n",
    "        for author, conv in author_conv_dict.items():\n",
    "            corpus.append(conv)\n",
    "            authors.append(author)\n",
    "    \n",
    "    return corpus, authors"
   ]
  },
  {
   "cell_type": "code",
   "execution_count": null,
   "metadata": {},
   "outputs": [],
   "source": [
    "import xml.etree.ElementTree as ET\n",
    "import csv\n",
    "\n",
    "test_data_src = '.../.../test data/'\n",
    "test_xml = ET.parse(test_data_src + 'grooming_conversations.xml')\n",
    "test_root = test_xml.getroot()\n",
    "\n",
    "test_corpus, authors = get_features_labels(test_root)"
   ]
  },
  {
   "cell_type": "markdown",
   "metadata": {},
   "source": [
    "Load VFPvectorizer.pickle "
   ]
  },
  {
   "cell_type": "code",
   "execution_count": null,
   "metadata": {},
   "outputs": [],
   "source": [
    "import pickle\n",
    "import scipy\n",
    "\n",
    "VFPvectorizer_filename = \".../.../pickles/VFPvectorizer.pickle\"\n",
    "vectorizer = pickle.load(open(VFPvectorizer_filename, 'rb'))\n",
    "\n",
    "X_test = vectorizer.transform(test_corpus)\n",
    "X_test = scipy.sparse.csr_matrix(X_test)"
   ]
  },
  {
   "cell_type": "markdown",
   "metadata": {},
   "source": [
    "Load our pre-trained VFP model - VFP_SVM_0.86"
   ]
  },
  {
   "cell_type": "code",
   "execution_count": null,
   "metadata": {},
   "outputs": [],
   "source": [
    "SCI_filename = \".../.../models/VFP_SVM_0.86.sav\"\n",
    "SCI_model = pickle.load(open(SCI_filename, 'rb'))\n",
    "\n",
    "prediction = SCI_model.predict(X_test)\n",
    "\n",
    "for i in range(len(authors)):\n",
    "    print(\"Author\",i+1, \"-\",authors[i],\":\", prediction[i])"
   ]
  },
  {
   "cell_type": "code",
   "execution_count": null,
   "metadata": {},
   "outputs": [],
   "source": [
    "import sklearn.metrics as metrics\n",
    "\n",
    "if prediction[0] == 1:\n",
    "    print(authors[0], \"is identified as the Predator\\n\")\n",
    "elif prediction[1] == 1:\n",
    "    print(authors[1], \"is identified as the Predator\\n\")\n",
    "\n",
    "Y_test = [1, -1] #-1 for Predator & 1 for Non-Predator\n",
    "print(\"VFP Model Accuracy:\", \"86.43%\")\n",
    "print(\"Test Case Accuracy:\", metrics.accuracy_score(Y_test, prediction)*100, end= \"%\")"
   ]
  }
 ],
 "metadata": {
  "kernelspec": {
   "display_name": "Python 3",
   "language": "python",
   "name": "python3"
  },
  "language_info": {
   "codemirror_mode": {
    "name": "ipython",
    "version": 3
   },
   "file_extension": ".py",
   "mimetype": "text/x-python",
   "name": "python",
   "nbconvert_exporter": "python",
   "pygments_lexer": "ipython3",
   "version": "3.9.1"
  }
 },
 "nbformat": 4,
 "nbformat_minor": 2
}
